{
 "cells": [
  {
   "cell_type": "markdown",
   "metadata": {},
   "source": [
    "# Toxic Comments"
   ]
  },
  {
   "cell_type": "markdown",
   "metadata": {},
   "source": [
    "### Import and refine data"
   ]
  },
  {
   "cell_type": "code",
   "execution_count": 1,
   "metadata": {
    "collapsed": true
   },
   "outputs": [],
   "source": [
    "#import libraries\n",
    "import pandas as pd\n",
    "import numpy as np\n",
    "from sklearn.feature_extraction.text import CountVectorizer\n",
    "from sklearn.feature_extraction.text import TfidfVectorizer\n",
    "from sklearn.linear_model import LogisticRegression"
   ]
  },
  {
   "cell_type": "code",
   "execution_count": 2,
   "metadata": {},
   "outputs": [],
   "source": [
    "from sklearn import metrics\n",
    "from sklearn.metrics import log_loss\n",
    "from sklearn.model_selection import StratifiedKFold\n",
    "from sklearn.model_selection import train_test_split\n",
    "import time"
   ]
  },
  {
   "cell_type": "code",
   "execution_count": 3,
   "metadata": {},
   "outputs": [],
   "source": [
    "#import train set into notebook\n",
    "train = pd.read_csv('C:/Users/mtrig/Documents/data science/toxic comments/data/train.csv')"
   ]
  },
  {
   "cell_type": "code",
   "execution_count": 4,
   "metadata": {},
   "outputs": [],
   "source": [
    "#import test set into notebook\n",
    "test = pd.read_csv('C:/Users/mtrig/Documents/data science/toxic comments/data/test.csv')"
   ]
  },
  {
   "cell_type": "code",
   "execution_count": 5,
   "metadata": {},
   "outputs": [
    {
     "data": {
      "text/html": [
       "<div>\n",
       "<style>\n",
       "    .dataframe thead tr:only-child th {\n",
       "        text-align: right;\n",
       "    }\n",
       "\n",
       "    .dataframe thead th {\n",
       "        text-align: left;\n",
       "    }\n",
       "\n",
       "    .dataframe tbody tr th {\n",
       "        vertical-align: top;\n",
       "    }\n",
       "</style>\n",
       "<table border=\"1\" class=\"dataframe\">\n",
       "  <thead>\n",
       "    <tr style=\"text-align: right;\">\n",
       "      <th></th>\n",
       "      <th>id</th>\n",
       "      <th>comment_text</th>\n",
       "      <th>toxic</th>\n",
       "      <th>severe_toxic</th>\n",
       "      <th>obscene</th>\n",
       "      <th>threat</th>\n",
       "      <th>insult</th>\n",
       "      <th>identity_hate</th>\n",
       "    </tr>\n",
       "  </thead>\n",
       "  <tbody>\n",
       "    <tr>\n",
       "      <th>19117</th>\n",
       "      <td>326f2b7604034d4d</td>\n",
       "      <td>. I am a stupid bitch for blocking this user, ...</td>\n",
       "      <td>1</td>\n",
       "      <td>0</td>\n",
       "      <td>1</td>\n",
       "      <td>0</td>\n",
       "      <td>1</td>\n",
       "      <td>0</td>\n",
       "    </tr>\n",
       "    <tr>\n",
       "      <th>149035</th>\n",
       "      <td>560a81db5d1dbf47</td>\n",
       "      <td>\"\\nI would suggest that is is you that needs t...</td>\n",
       "      <td>0</td>\n",
       "      <td>0</td>\n",
       "      <td>0</td>\n",
       "      <td>0</td>\n",
       "      <td>0</td>\n",
       "      <td>0</td>\n",
       "    </tr>\n",
       "    <tr>\n",
       "      <th>100643</th>\n",
       "      <td>1aaa1e613d60f26e</td>\n",
       "      <td>\"==Notability of Nashaa Weiss==\\nA tag has bee...</td>\n",
       "      <td>0</td>\n",
       "      <td>0</td>\n",
       "      <td>0</td>\n",
       "      <td>0</td>\n",
       "      <td>0</td>\n",
       "      <td>0</td>\n",
       "    </tr>\n",
       "    <tr>\n",
       "      <th>40766</th>\n",
       "      <td>6ccc0788d6023e0b</td>\n",
       "      <td>The deletion thing does not say you are unimpo...</td>\n",
       "      <td>0</td>\n",
       "      <td>0</td>\n",
       "      <td>0</td>\n",
       "      <td>0</td>\n",
       "      <td>0</td>\n",
       "      <td>0</td>\n",
       "    </tr>\n",
       "    <tr>\n",
       "      <th>40438</th>\n",
       "      <td>6be7ab1a9ba990b6</td>\n",
       "      <td>You honestly think it should be merged? Now I ...</td>\n",
       "      <td>0</td>\n",
       "      <td>0</td>\n",
       "      <td>0</td>\n",
       "      <td>0</td>\n",
       "      <td>0</td>\n",
       "      <td>0</td>\n",
       "    </tr>\n",
       "  </tbody>\n",
       "</table>\n",
       "</div>"
      ],
      "text/plain": [
       "                      id                                       comment_text  \\\n",
       "19117   326f2b7604034d4d  . I am a stupid bitch for blocking this user, ...   \n",
       "149035  560a81db5d1dbf47  \"\\nI would suggest that is is you that needs t...   \n",
       "100643  1aaa1e613d60f26e  \"==Notability of Nashaa Weiss==\\nA tag has bee...   \n",
       "40766   6ccc0788d6023e0b  The deletion thing does not say you are unimpo...   \n",
       "40438   6be7ab1a9ba990b6  You honestly think it should be merged? Now I ...   \n",
       "\n",
       "        toxic  severe_toxic  obscene  threat  insult  identity_hate  \n",
       "19117       1             0        1       0       1              0  \n",
       "149035      0             0        0       0       0              0  \n",
       "100643      0             0        0       0       0              0  \n",
       "40766       0             0        0       0       0              0  \n",
       "40438       0             0        0       0       0              0  "
      ]
     },
     "execution_count": 5,
     "metadata": {},
     "output_type": "execute_result"
    }
   ],
   "source": [
    "#peek at the data\n",
    "train.sample(5)"
   ]
  },
  {
   "cell_type": "code",
   "execution_count": 6,
   "metadata": {},
   "outputs": [
    {
     "data": {
      "text/plain": [
       "(153164, 2)"
      ]
     },
     "execution_count": 6,
     "metadata": {},
     "output_type": "execute_result"
    }
   ],
   "source": [
    "test.shape"
   ]
  },
  {
   "cell_type": "code",
   "execution_count": 7,
   "metadata": {},
   "outputs": [
    {
     "data": {
      "text/plain": [
       "(159571, 8)"
      ]
     },
     "execution_count": 7,
     "metadata": {},
     "output_type": "execute_result"
    }
   ],
   "source": [
    "train.shape"
   ]
  },
  {
   "cell_type": "code",
   "execution_count": 8,
   "metadata": {
    "collapsed": true
   },
   "outputs": [],
   "source": [
    "#replace NaN values\n",
    "train = train.fillna(\"unknown\")\n",
    "test = test.fillna(\"unknown\")"
   ]
  },
  {
   "cell_type": "markdown",
   "metadata": {},
   "source": [
    "### Set up X and Y arrays for test and train"
   ]
  },
  {
   "cell_type": "code",
   "execution_count": 9,
   "metadata": {
    "collapsed": true
   },
   "outputs": [],
   "source": [
    "X_train = train.comment_text"
   ]
  },
  {
   "cell_type": "code",
   "execution_count": 10,
   "metadata": {
    "collapsed": true
   },
   "outputs": [],
   "source": [
    "X_test = test.comment_text"
   ]
  },
  {
   "cell_type": "code",
   "execution_count": 11,
   "metadata": {},
   "outputs": [],
   "source": [
    "#frames = [X_train, X_test]\n",
    "#all_X = pd.concat(frames)"
   ]
  },
  {
   "cell_type": "code",
   "execution_count": 12,
   "metadata": {
    "collapsed": true
   },
   "outputs": [],
   "source": [
    "#Vectorize the train comments sample and convert to document term matrix\n",
    "vect = TfidfVectorizer()\n",
    "X_train_dtm = vect.fit_transform(X_train)"
   ]
  },
  {
   "cell_type": "code",
   "execution_count": 13,
   "metadata": {},
   "outputs": [],
   "source": [
    "#all_X_vec = vect.fit(all_X)"
   ]
  },
  {
   "cell_type": "code",
   "execution_count": 14,
   "metadata": {},
   "outputs": [],
   "source": [
    "#X_dtm = vect.transform(X_train)"
   ]
  },
  {
   "cell_type": "code",
   "execution_count": 15,
   "metadata": {},
   "outputs": [
    {
     "data": {
      "text/plain": [
       "<159571x189775 sparse matrix of type '<class 'numpy.float64'>'\n",
       "\twith 6949691 stored elements in Compressed Sparse Row format>"
      ]
     },
     "execution_count": 15,
     "metadata": {},
     "output_type": "execute_result"
    }
   ],
   "source": [
    "X_train_dtm"
   ]
  },
  {
   "cell_type": "code",
   "execution_count": 16,
   "metadata": {
    "collapsed": true
   },
   "outputs": [],
   "source": [
    "#Vectorize the test sample already fitted on train sample\n",
    "X_test_dtm = vect.transform(X_test)"
   ]
  },
  {
   "cell_type": "code",
   "execution_count": 17,
   "metadata": {},
   "outputs": [
    {
     "data": {
      "text/plain": [
       "<153164x189775 sparse matrix of type '<class 'numpy.float64'>'\n",
       "\twith 5738810 stored elements in Compressed Sparse Row format>"
      ]
     },
     "execution_count": 17,
     "metadata": {},
     "output_type": "execute_result"
    }
   ],
   "source": [
    "X_test_dtm"
   ]
  },
  {
   "cell_type": "markdown",
   "metadata": {},
   "source": [
    "### Import, initialise and fit model"
   ]
  },
  {
   "cell_type": "code",
   "execution_count": 18,
   "metadata": {
    "collapsed": true
   },
   "outputs": [],
   "source": [
    "#target columns\n",
    "cols = ['toxic', 'severe_toxic', 'obscene', 'threat', 'insult', 'identity_hate']"
   ]
  },
  {
   "cell_type": "code",
   "execution_count": 19,
   "metadata": {
    "collapsed": true
   },
   "outputs": [],
   "source": [
    "target_y = train[cols]"
   ]
  },
  {
   "cell_type": "code",
   "execution_count": 20,
   "metadata": {},
   "outputs": [],
   "source": [
    "model = LogisticRegression()"
   ]
  },
  {
   "cell_type": "code",
   "execution_count": 22,
   "metadata": {},
   "outputs": [
    {
     "name": "stdout",
     "output_type": "stream",
     "text": [
      "Class:= toxic\n",
      "Trainloss=log loss: 0.104805693271\n",
      "Validloss=log loss: 0.120602527002\n",
      "Class:= severe_toxic\n",
      "Trainloss=log loss: 0.0238088444372\n",
      "Validloss=log loss: 0.0278490462775\n",
      "Class:= obscene\n",
      "Trainloss=log loss: 0.0594044378828\n",
      "Validloss=log loss: 0.0690554987667\n",
      "Class:= threat\n",
      "Trainloss=log loss: 0.00940643030504\n",
      "Validloss=log loss: 0.0112640507173\n",
      "Class:= insult\n",
      "Trainloss=log loss: 0.0687199136058\n",
      "Validloss=log loss: 0.0836718078672\n",
      "Class:= identity_hate\n",
      "Trainloss=log loss: 0.0236732166029\n",
      "Validloss=log loss: 0.0295354562586\n",
      "mean column-wise log loss:Train dataset 0.0483030893508\n",
      "mean column-wise log loss:Validation dataset 0.0569963978149\n",
      "total time for model 94.66555428504944\n"
     ]
    }
   ],
   "source": [
    "# Split into train and validation set to fit model and evaluate performance\n",
    "start_time = time.time()\n",
    "X_train, X_valid, y_train, y_valid = train_test_split(X_train_dtm, target_y, test_size=0.33, random_state=2018)\n",
    "train_loss = []\n",
    "valid_loss = []\n",
    "importance=[]\n",
    "preds_train = np.zeros((X_train.shape[0], len(cols)))\n",
    "preds_valid = np.zeros((X_valid.shape[0], len(cols)))\n",
    "for i, j in enumerate(cols):\n",
    "    print('Class:= '+j)\n",
    "    model.fit(X_train,y_train[j])\n",
    "    preds_valid[:,i] = model.predict_proba(X_valid)[:,1]\n",
    "    preds_train[:,i] = model.predict_proba(X_train)[:,1]\n",
    "    train_loss_class=log_loss(y_train[j],preds_train[:,i])\n",
    "    valid_loss_class=log_loss(y_valid[j],preds_valid[:,i])\n",
    "    print('Trainloss=log loss:', train_loss_class)\n",
    "    print('Validloss=log loss:', valid_loss_class)\n",
    "    importance.append(model.coef_)\n",
    "    train_loss.append(train_loss_class)\n",
    "    valid_loss.append(valid_loss_class)\n",
    "print('mean column-wise log loss:Train dataset', np.mean(train_loss))\n",
    "print('mean column-wise log loss:Validation dataset', np.mean(valid_loss))\n",
    "\n",
    "end_time=time.time()\n",
    "print(\"total time for model\",end_time-start_time)"
   ]
  },
  {
   "cell_type": "code",
   "execution_count": 21,
   "metadata": {},
   "outputs": [
    {
     "name": "stdout",
     "output_type": "stream",
     "text": [
      "Class:= toxic\n",
      "Class:= severe_toxic\n",
      "Class:= obscene\n",
      "Class:= threat\n",
      "Class:= insult\n",
      "Class:= identity_hate\n",
      "total time till Indirect feat model 127.06583976745605\n"
     ]
    }
   ],
   "source": [
    "#make predictions on test set\n",
    "start_time = time.time()\n",
    "preds_test = np.zeros((test.shape[0], len(cols)))\n",
    "for i, j in enumerate(cols):\n",
    "    model.fit(X_train_dtm, target_y[j])\n",
    "    print('Class:= '+j)\n",
    "    preds_test[:,i] = model.predict_proba(X_test_dtm)[:,1]\n",
    "\n",
    "end_time=time.time()\n",
    "print(\"total time:\",end_time-start_time)"
   ]
  },
  {
   "cell_type": "code",
   "execution_count": 22,
   "metadata": {},
   "outputs": [
    {
     "data": {
      "text/plain": [
       "array([[  9.98337160e-01,   1.79390376e-01,   9.94814648e-01,\n",
       "          4.62070355e-02,   9.61402431e-01,   2.80958967e-01],\n",
       "       [  6.59956592e-03,   1.56288482e-03,   3.99668472e-03,\n",
       "          4.33037669e-04,   5.72391538e-03,   3.05811246e-03],\n",
       "       [  4.24095470e-02,   6.40249584e-03,   2.08041452e-02,\n",
       "          1.98726264e-03,   2.34432325e-02,   6.13588420e-03],\n",
       "       ..., \n",
       "       [  6.04189206e-03,   1.43522807e-03,   5.59173323e-03,\n",
       "          7.42073665e-04,   4.37652894e-03,   1.84344656e-03],\n",
       "       [  2.29514324e-02,   1.46851636e-03,   1.11333139e-02,\n",
       "          9.43469210e-04,   1.14498139e-02,   8.98091020e-03],\n",
       "       [  9.47327731e-01,   3.31298371e-03,   6.26434369e-01,\n",
       "          3.95935140e-03,   3.57220469e-01,   1.20274264e-02]])"
      ]
     },
     "execution_count": 22,
     "metadata": {},
     "output_type": "execute_result"
    }
   ],
   "source": [
    "preds_test"
   ]
  },
  {
   "cell_type": "code",
   "execution_count": 23,
   "metadata": {},
   "outputs": [
    {
     "data": {
      "text/plain": [
       "(153164, 6)"
      ]
     },
     "execution_count": 23,
     "metadata": {},
     "output_type": "execute_result"
    }
   ],
   "source": [
    "preds_test.shape"
   ]
  },
  {
   "cell_type": "markdown",
   "metadata": {},
   "source": [
    "### Create submission file"
   ]
  },
  {
   "cell_type": "code",
   "execution_count": 24,
   "metadata": {},
   "outputs": [],
   "source": [
    "submid = pd.DataFrame({'id': test[\"id\"]})\n",
    "submission = pd.concat([submid, pd.DataFrame(preds_test, columns = cols)], axis=1)"
   ]
  },
  {
   "cell_type": "code",
   "execution_count": 25,
   "metadata": {},
   "outputs": [],
   "source": [
    "submission.id = submission.id.astype(str)"
   ]
  },
  {
   "cell_type": "code",
   "execution_count": 26,
   "metadata": {},
   "outputs": [],
   "source": [
    "submission.to_csv('C:/Users/mtrig/Documents/data science/toxic comments/data/submission.csv', index = False)"
   ]
  },
  {
   "cell_type": "code",
   "execution_count": 27,
   "metadata": {
    "collapsed": true
   },
   "outputs": [
    {
     "data": {
      "text/html": [
       "<div>\n",
       "<style>\n",
       "    .dataframe thead tr:only-child th {\n",
       "        text-align: right;\n",
       "    }\n",
       "\n",
       "    .dataframe thead th {\n",
       "        text-align: left;\n",
       "    }\n",
       "\n",
       "    .dataframe tbody tr th {\n",
       "        vertical-align: top;\n",
       "    }\n",
       "</style>\n",
       "<table border=\"1\" class=\"dataframe\">\n",
       "  <thead>\n",
       "    <tr style=\"text-align: right;\">\n",
       "      <th></th>\n",
       "      <th>id</th>\n",
       "      <th>toxic</th>\n",
       "      <th>severe_toxic</th>\n",
       "      <th>obscene</th>\n",
       "      <th>threat</th>\n",
       "      <th>insult</th>\n",
       "      <th>identity_hate</th>\n",
       "    </tr>\n",
       "  </thead>\n",
       "  <tbody>\n",
       "    <tr>\n",
       "      <th>0</th>\n",
       "      <td>00001cee341fdb12</td>\n",
       "      <td>0.998337</td>\n",
       "      <td>0.179390</td>\n",
       "      <td>0.994815</td>\n",
       "      <td>0.046207</td>\n",
       "      <td>0.961402</td>\n",
       "      <td>0.280959</td>\n",
       "    </tr>\n",
       "    <tr>\n",
       "      <th>1</th>\n",
       "      <td>0000247867823ef7</td>\n",
       "      <td>0.006600</td>\n",
       "      <td>0.001563</td>\n",
       "      <td>0.003997</td>\n",
       "      <td>0.000433</td>\n",
       "      <td>0.005724</td>\n",
       "      <td>0.003058</td>\n",
       "    </tr>\n",
       "    <tr>\n",
       "      <th>2</th>\n",
       "      <td>00013b17ad220c46</td>\n",
       "      <td>0.042410</td>\n",
       "      <td>0.006402</td>\n",
       "      <td>0.020804</td>\n",
       "      <td>0.001987</td>\n",
       "      <td>0.023443</td>\n",
       "      <td>0.006136</td>\n",
       "    </tr>\n",
       "    <tr>\n",
       "      <th>3</th>\n",
       "      <td>00017563c3f7919a</td>\n",
       "      <td>0.003176</td>\n",
       "      <td>0.001637</td>\n",
       "      <td>0.003099</td>\n",
       "      <td>0.001038</td>\n",
       "      <td>0.003708</td>\n",
       "      <td>0.000930</td>\n",
       "    </tr>\n",
       "    <tr>\n",
       "      <th>4</th>\n",
       "      <td>00017695ad8997eb</td>\n",
       "      <td>0.034391</td>\n",
       "      <td>0.004016</td>\n",
       "      <td>0.011180</td>\n",
       "      <td>0.001724</td>\n",
       "      <td>0.011583</td>\n",
       "      <td>0.003610</td>\n",
       "    </tr>\n",
       "  </tbody>\n",
       "</table>\n",
       "</div>"
      ],
      "text/plain": [
       "                 id     toxic  severe_toxic   obscene    threat    insult  \\\n",
       "0  00001cee341fdb12  0.998337      0.179390  0.994815  0.046207  0.961402   \n",
       "1  0000247867823ef7  0.006600      0.001563  0.003997  0.000433  0.005724   \n",
       "2  00013b17ad220c46  0.042410      0.006402  0.020804  0.001987  0.023443   \n",
       "3  00017563c3f7919a  0.003176      0.001637  0.003099  0.001038  0.003708   \n",
       "4  00017695ad8997eb  0.034391      0.004016  0.011180  0.001724  0.011583   \n",
       "\n",
       "   identity_hate  \n",
       "0       0.280959  \n",
       "1       0.003058  \n",
       "2       0.006136  \n",
       "3       0.000930  \n",
       "4       0.003610  "
      ]
     },
     "execution_count": 27,
     "metadata": {},
     "output_type": "execute_result"
    }
   ],
   "source": [
    "submission.head()"
   ]
  },
  {
   "cell_type": "code",
   "execution_count": null,
   "metadata": {},
   "outputs": [],
   "source": []
  }
 ],
 "metadata": {
  "kernelspec": {
   "display_name": "Python 3",
   "language": "python",
   "name": "python3"
  },
  "language_info": {
   "codemirror_mode": {
    "name": "ipython",
    "version": 3
   },
   "file_extension": ".py",
   "mimetype": "text/x-python",
   "name": "python",
   "nbconvert_exporter": "python",
   "pygments_lexer": "ipython3",
   "version": "3.6.3"
  }
 },
 "nbformat": 4,
 "nbformat_minor": 2
}
